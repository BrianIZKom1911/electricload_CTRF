{
 "cells": [
  {
   "cell_type": "code",
   "execution_count": null,
   "metadata": {},
   "outputs": [],
   "source": [
    "# Extract population data from five files\n",
    "\n",
    "# A.1 2000-2010. 'co-est00int-01-48.xls', Range A6: L259\n",
    "# 1) Delete unwanted characters from the county names\n",
    "# 2) Delete April 1 of 2000 column (Census)\n",
    "\n",
    "# A.2 2011-2020. 'co-est2020int-pop-48.xlsx', Range A3: L259\n",
    "# 1) Delete unwanted characters from the county names\n",
    "# 2) Delete April 1 of 2020 column (Census)\n",
    "\n",
    "# B.1 2021 from '2021_txpopest_county.csv'\n",
    "# B.2 2022 from '2022_txpopest_county.csv'\n",
    "# B.3 2023 from '2023_txpopest_county.csv'\n",
    "# 1) Range B and D, 1:255. Add column 2021\n",
    "\n",
    "# 2) Merge all five files into one by county name\n",
    "# 3) Pivot to long table"
   ]
  },
  {
   "cell_type": "code",
   "execution_count": null,
   "metadata": {},
   "outputs": [],
   "source": [
    "# Need to install xlrd package to open the old Excel files xls:\n",
    "# conda install -c anaconda xlrd"
   ]
  },
  {
   "cell_type": "code",
   "execution_count": null,
   "metadata": {},
   "outputs": [],
   "source": [
    "import os\n",
    "from pathlib import Path\n",
    "import re\n",
    "import pandas as pd\n",
    "import numpy as np\n",
    "\n",
    "md = 'D:/OneDrive - University of Missouri/transfer_desktop/MU/2025spring_submit2'"
   ]
  },
  {
   "cell_type": "code",
   "execution_count": 8,
   "metadata": {},
   "outputs": [],
   "source": [
    "# Import A.1 2000-2010\n",
    "# omit the first 5 rows and set no header\n",
    "dt_a1 = pd.read_excel(os.path.join(md, 'data_raw', 'co-est00int-01-48.xls'), header=None, usecols='A:L', skiprows=5, nrows=254)\n",
    "dt_a1.columns = ['county', 'april_2000', '2000', '2001', '2002', '2003', '2004', '2005', '2006', '2007', '2008', '2009']\n",
    "# remove the leading '.' characters and the trailing ' County' from all county names\n",
    "dt_a1['county'] = dt_a1['county'].str.strip('.').str.replace(' County$', '', regex=True)\n",
    "# delete April 1, 2000 column (Census)\n",
    "dt_a1 = dt_a1.drop(columns=['april_2000'])"
   ]
  },
  {
   "cell_type": "code",
   "execution_count": 9,
   "metadata": {},
   "outputs": [],
   "source": [
    "# Import A.2 2010-2020\n",
    "# omit the first 5 rows and set no header\n",
    "dt_a2 = pd.read_excel(os.path.join(md, 'data_raw', 'co-est2020int-pop-48.xlsx'), header=None, usecols='A:M', skiprows=5, nrows=254)\n",
    "dt_a2.columns = ['county', 'april_2010', '2010', '2011', '2012', '2013', '2014', '2015', '2016', '2017', '2018', '2019', '2020']\n",
    "# remove unwanted characters from the county names\n",
    "dt_a2['county'] = dt_a2['county'].str.strip('.').str.replace(' County, Texas$', '', regex=True)\n",
    "# delete April 1, 2010 column (Census)\n",
    "dt_a2 = dt_a2.drop(columns=['april_2010'])"
   ]
  },
  {
   "cell_type": "code",
   "execution_count": 12,
   "metadata": {},
   "outputs": [],
   "source": [
    "# Import B\n",
    "dt_b1 = pd.read_csv(os.path.join(md, 'data_raw', '2021_txpopest_county.csv'), usecols=[1, 3], nrows=254)\n",
    "dt_b2 = pd.read_csv(os.path.join(md, 'data_raw', '2022_txpopest_county.csv'), usecols=[1, 3], nrows=254)\n",
    "dt_b3 = pd.read_csv(os.path.join(md, 'data_raw', '2023_txpopest_county.csv'), usecols=[1, 3], nrows=254)\n",
    "dt_b1.columns = ['county', '2021']\n",
    "dt_b2.columns = ['county', '2022']\n",
    "dt_b3.columns = ['county', '2023']"
   ]
  },
  {
   "cell_type": "code",
   "execution_count": null,
   "metadata": {},
   "outputs": [],
   "source": [
    "# Merge the five tables\n",
    "from functools import reduce\n",
    "\n",
    "dfs = [dt_a1, dt_a2, dt_b1, dt_b2, dt_b3]\n",
    "dt_pop = reduce(lambda left, right: pd.merge(left, right, on='county', how='outer'), dfs)\n",
    "# Pivot to long table\n",
    "dt_pop = dt_pop.melt(id_vars='county', var_name='year', value_name='population')"
   ]
  },
  {
   "cell_type": "code",
   "execution_count": null,
   "metadata": {},
   "outputs": [],
   "source": [
    "# Save the data\n",
    "dt_pop.to_csv(os.path.join(md, 'data_clean', 'population_2000_2023.csv'), index=False)"
   ]
  }
 ],
 "metadata": {
  "kernelspec": {
   "display_name": "base",
   "language": "python",
   "name": "python3"
  },
  "language_info": {
   "codemirror_mode": {
    "name": "ipython",
    "version": 3
   },
   "file_extension": ".py",
   "mimetype": "text/x-python",
   "name": "python",
   "nbconvert_exporter": "python",
   "pygments_lexer": "ipython3",
   "version": "3.11.5"
  }
 },
 "nbformat": 4,
 "nbformat_minor": 2
}
